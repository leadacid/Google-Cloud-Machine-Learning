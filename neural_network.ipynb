{
 "cells": [
  {
   "cell_type": "markdown",
   "metadata": {},
   "source": [
    "# Build a DNN using the Keras Functional API\n",
    "\n",
    "\n",
    "\n",
    "\n",
    "## Learning objectives\n",
    "\n",
    "1. Review how to read in CSV file data using tf.data.\n",
    "2. Specify input, hidden, and output layers in the DNN architecture.\n",
    "3. Review and visualize the final DNN shape.\n",
    "4. Train the model locally and visualize the loss curves.\n",
    "5. Deploy and predict with the model using Cloud AI Platform. \n",
    "\n",
    "\n",
    "## Introduction\n",
    "\n",
    "In this notebook, we will build a Keras DNN to predict the fare amount for NYC taxi cab rides.\n",
    "\n",
    "Each learning objective will correspond to a __#TODO__ in the [student lab notebook](../labs/neural_network.ipynb) -- try to complete that notebook first before reviewing this solution notebook. "
   ]
  },
  {
   "cell_type": "code",
   "execution_count": 1,
   "metadata": {},
   "outputs": [],
   "source": [
    "!sudo chown -R jupyter:jupyter /home/jupyter/training-data-analyst"
   ]
  },
  {
   "cell_type": "code",
   "execution_count": 2,
   "metadata": {},
   "outputs": [
    {
     "name": "stdout",
     "output_type": "stream",
     "text": [
      "TensorFlow version:  2.6.5\n"
     ]
    }
   ],
   "source": [
    "# You can use any Python source file as a module by executing an import statement in some other Python source file\n",
    "# The import statement combines two operations; it searches for the named module, then it binds the\n",
    "# results of that search to a name in the local scope.\n",
    "import os, json, math\n",
    "# Import data processing libraries like Numpy and TensorFlow\n",
    "import numpy as np\n",
    "import tensorflow as tf\n",
    "# Python shutil module enables us to operate with file objects easily and without diving into file objects a lot.\n",
    "import shutil\n",
    "# Show the currently installed version of TensorFlow\n",
    "print(\"TensorFlow version: \",tf.version.VERSION)\n",
    "\n",
    "os.environ['TF_CPP_MIN_LOG_LEVEL'] = '3' # SET TF ERROR LOG VERBOSITY"
   ]
  },
  {
   "cell_type": "markdown",
   "metadata": {},
   "source": [
    "## Locating the CSV files\n",
    "\n",
    "We will start with the CSV files that we wrote out in the other notebook. Just so you don't have to run the notebook, we saved a copy in ../data/toy_data"
   ]
  },
  {
   "cell_type": "code",
   "execution_count": 3,
   "metadata": {},
   "outputs": [
    {
     "name": "stdout",
     "output_type": "stream",
     "text": [
      "-rw-r--r-- 1 jupyter jupyter 1111933 Jul 20 15:42 ../data/toy_data/taxi-traffic-test_toy.csv\n",
      "-rw-r--r-- 1 jupyter jupyter 4772181 Jul 20 15:42 ../data/toy_data/taxi-traffic-train_toy.csv\n",
      "-rw-r--r-- 1 jupyter jupyter 1038564 Jul 20 15:42 ../data/toy_data/taxi-traffic-valid_toy.csv\n"
     ]
    }
   ],
   "source": [
    "# `ls` is a Linux shell command that lists directory contents\n",
    "# `l` flag list all the files with permissions and details\n",
    "!ls -l ../data/toy_data/*.csv"
   ]
  },
  {
   "cell_type": "markdown",
   "metadata": {},
   "source": [
    "## Lab Task 1: Use tf.data to read the CSV files\n",
    "\n",
    "\n",
    "First let's define our columns of data, which column we're predicting for, and the default values."
   ]
  },
  {
   "cell_type": "code",
   "execution_count": 4,
   "metadata": {},
   "outputs": [],
   "source": [
    "# Define columns of data\n",
    "CSV_COLUMNS  = ['fare_amount',  'pickup_datetime',\n",
    "                'pickup_longitude', 'pickup_latitude', \n",
    "                'dropoff_longitude', 'dropoff_latitude', \n",
    "                'passenger_count', 'key']\n",
    "LABEL_COLUMN = 'fare_amount'\n",
    "DEFAULTS     = [[0.0],['na'],[0.0],[0.0],[0.0],[0.0],[0.0],['na']]"
   ]
  },
  {
   "cell_type": "markdown",
   "metadata": {},
   "source": [
    "Next, let's define our features we want to use and our label(s) and then load in the dataset for training."
   ]
  },
  {
   "cell_type": "code",
   "execution_count": 5,
   "metadata": {},
   "outputs": [],
   "source": [
    "# Define features you want to use\n",
    "def features_and_labels(row_data):\n",
    "    for unwanted_col in ['pickup_datetime', 'key']:\n",
    "        row_data.pop(unwanted_col)\n",
    "    label = row_data.pop(LABEL_COLUMN)\n",
    "    return row_data, label  # features, label\n",
    "\n",
    "# load the training data\n",
    "def load_dataset(pattern, batch_size=1, mode=tf.estimator.ModeKeys.EVAL):\n",
    "  dataset = (tf.data.experimental.make_csv_dataset(pattern, batch_size, CSV_COLUMNS, DEFAULTS)\n",
    "             .map(features_and_labels) # features, label\n",
    "             )\n",
    "  if mode == tf.estimator.ModeKeys.TRAIN:\n",
    "        dataset = dataset.shuffle(1000).repeat()\n",
    "  dataset = dataset.prefetch(1) # take advantage of multi-threading; 1=AUTOTUNE\n",
    "  return dataset"
   ]
  },
  {
   "cell_type": "markdown",
   "metadata": {},
   "source": [
    "## Lab Task 2: Build a DNN with Keras\n",
    "\n",
    "Now let's build the Deep Neural Network (DNN) model in Keras and specify the input and hidden layers. We will print out the DNN architecture and then visualize it later on."
   ]
  },
  {
   "cell_type": "code",
   "execution_count": 6,
   "metadata": {},
   "outputs": [
    {
     "name": "stdout",
     "output_type": "stream",
     "text": [
      "Here is our DNN architecture so far:\n",
      "\n",
      "Model: \"model\"\n",
      "__________________________________________________________________________________________________\n",
      "Layer (type)                    Output Shape         Param #     Connected to                     \n",
      "==================================================================================================\n",
      "dropoff_latitude (InputLayer)   [(None,)]            0                                            \n",
      "__________________________________________________________________________________________________\n",
      "dropoff_longitude (InputLayer)  [(None,)]            0                                            \n",
      "__________________________________________________________________________________________________\n",
      "passenger_count (InputLayer)    [(None,)]            0                                            \n",
      "__________________________________________________________________________________________________\n",
      "pickup_latitude (InputLayer)    [(None,)]            0                                            \n",
      "__________________________________________________________________________________________________\n",
      "pickup_longitude (InputLayer)   [(None,)]            0                                            \n",
      "__________________________________________________________________________________________________\n",
      "dense_features (DenseFeatures)  (None, 5)            0           dropoff_latitude[0][0]           \n",
      "                                                                 dropoff_longitude[0][0]          \n",
      "                                                                 passenger_count[0][0]            \n",
      "                                                                 pickup_latitude[0][0]            \n",
      "                                                                 pickup_longitude[0][0]           \n",
      "__________________________________________________________________________________________________\n",
      "h1 (Dense)                      (None, 32)           192         dense_features[0][0]             \n",
      "__________________________________________________________________________________________________\n",
      "h2 (Dense)                      (None, 8)            264         h1[0][0]                         \n",
      "__________________________________________________________________________________________________\n",
      "fare (Dense)                    (None, 1)            9           h2[0][0]                         \n",
      "==================================================================================================\n",
      "Total params: 465\n",
      "Trainable params: 465\n",
      "Non-trainable params: 0\n",
      "__________________________________________________________________________________________________\n",
      "None\n"
     ]
    }
   ],
   "source": [
    "# Build a simple Keras DNN using its Functional API\n",
    "def rmse(y_true, y_pred):\n",
    "    return tf.sqrt(tf.reduce_mean(tf.square(y_pred - y_true))) \n",
    "\n",
    "def build_dnn_model():\n",
    "    INPUT_COLS = ['pickup_longitude', 'pickup_latitude', \n",
    "                  'dropoff_longitude', 'dropoff_latitude', \n",
    "                  'passenger_count']\n",
    "\n",
    "    # TODO 2\n",
    "    # input layer\n",
    "    inputs = {\n",
    "        colname : tf.keras.layers.Input(name=colname, shape=(), dtype='float32')\n",
    "           for colname in INPUT_COLS\n",
    "    }\n",
    "    # tf.feature_column.numeric_column() represents real valued or numerical features.\n",
    "    feature_columns = {\n",
    "        colname : tf.feature_column.numeric_column(colname)\n",
    "           for colname in INPUT_COLS\n",
    "    }\n",
    "    \n",
    "    # the constructor for DenseFeatures takes a list of numeric columns\n",
    "    # The Functional API in Keras requires that you specify: LayerConstructor()(inputs)\n",
    "    dnn_inputs = tf.keras.layers.DenseFeatures(feature_columns.values())(inputs)\n",
    "\n",
    "    # two hidden layers of [32, 8] just in like the BQML DNN\n",
    "    h1 = tf.keras.layers.Dense(32, activation='relu', name='h1')(dnn_inputs)\n",
    "    h2 = tf.keras.layers.Dense(8, activation='relu', name='h2')(h1)\n",
    "\n",
    "    # final output is a linear activation because this is regression\n",
    "    output = tf.keras.layers.Dense(1, activation='linear', name='fare')(h2)\n",
    "    model = tf.keras.models.Model(inputs, output)\n",
    "    model.compile(optimizer='adam', loss='mse', metrics=[rmse, 'mse'])\n",
    "    return model\n",
    "\n",
    "print(\"Here is our DNN architecture so far:\\n\")\n",
    "model = build_dnn_model()\n",
    "print(model.summary())"
   ]
  },
  {
   "cell_type": "markdown",
   "metadata": {},
   "source": [
    "## Lab Task 3: Visualize the DNN\n",
    "\n",
    "We can visualize the DNN using the Keras [plot_model](https://www.tensorflow.org/versions/r2.0/api_docs/python/tf/keras/utils/plot_model) utility."
   ]
  },
  {
   "cell_type": "code",
   "execution_count": 7,
   "metadata": {},
   "outputs": [
    {
     "name": "stdout",
     "output_type": "stream",
     "text": [
      "('You must install pydot (`pip install pydot`) and install graphviz (see instructions at https://graphviz.gitlab.io/download/) ', 'for plot_model/model_to_dot to work.')\n"
     ]
    }
   ],
   "source": [
    "# tf.keras.utils.plot_model() Converts a Keras model to dot format and save to a file.\n",
    "tf.keras.utils.plot_model(model, 'dnn_model.png', show_shapes=False, rankdir='LR')"
   ]
  },
  {
   "cell_type": "markdown",
   "metadata": {},
   "source": [
    "## Lab Task 4: Train the model\n",
    "\n",
    "To train the model, simply call [model.fit()](https://keras.io/models/model/#fit).\n",
    "\n",
    "Note that we should really use many more NUM_TRAIN_EXAMPLES (i.e. a larger dataset). We shouldn't make assumptions about the quality of the model based on training/evaluating it on a small sample of the full data."
   ]
  },
  {
   "cell_type": "code",
   "execution_count": 8,
   "metadata": {},
   "outputs": [
    {
     "name": "stdout",
     "output_type": "stream",
     "text": [
      "Epoch 1/32\n",
      "48/48 [==============================] - 2s 18ms/step - loss: 583.3054 - rmse: 22.5884 - mse: 583.3054 - val_loss: 142.7485 - val_rmse: 11.9363 - val_mse: 142.7485\n",
      "Epoch 2/32\n",
      "48/48 [==============================] - 1s 12ms/step - loss: 125.5856 - rmse: 10.1448 - mse: 125.5856 - val_loss: 87.9431 - val_rmse: 9.3761 - val_mse: 87.9431\n",
      "Epoch 3/32\n",
      "48/48 [==============================] - 1s 11ms/step - loss: 94.2842 - rmse: 9.3576 - mse: 94.2842 - val_loss: 90.2827 - val_rmse: 9.4851 - val_mse: 90.2827\n",
      "Epoch 4/32\n",
      "48/48 [==============================] - 1s 12ms/step - loss: 81.4449 - rmse: 8.6129 - mse: 81.4449 - val_loss: 93.4048 - val_rmse: 9.6520 - val_mse: 93.4048\n",
      "Epoch 5/32\n",
      "48/48 [==============================] - 1s 11ms/step - loss: 100.1295 - rmse: 9.4381 - mse: 100.1295 - val_loss: 90.3895 - val_rmse: 9.4814 - val_mse: 90.3895\n",
      "Epoch 6/32\n",
      "48/48 [==============================] - 1s 11ms/step - loss: 86.2886 - rmse: 8.7772 - mse: 86.2886 - val_loss: 90.9695 - val_rmse: 9.5218 - val_mse: 90.9695\n",
      "Epoch 7/32\n",
      "48/48 [==============================] - 1s 13ms/step - loss: 92.8944 - rmse: 9.2123 - mse: 92.8944 - val_loss: 90.9379 - val_rmse: 9.5145 - val_mse: 90.9379\n",
      "Epoch 8/32\n",
      "48/48 [==============================] - 1s 13ms/step - loss: 98.0955 - rmse: 9.4089 - mse: 98.0955 - val_loss: 90.9588 - val_rmse: 9.5239 - val_mse: 90.9588\n",
      "Epoch 9/32\n",
      "48/48 [==============================] - 1s 12ms/step - loss: 82.3113 - rmse: 8.6375 - mse: 82.3113 - val_loss: 89.4618 - val_rmse: 9.4498 - val_mse: 89.4618\n",
      "Epoch 10/32\n",
      "48/48 [==============================] - 1s 12ms/step - loss: 84.6066 - rmse: 8.7255 - mse: 84.6066 - val_loss: 90.7744 - val_rmse: 9.4997 - val_mse: 90.7744\n",
      "Epoch 11/32\n",
      "48/48 [==============================] - 1s 16ms/step - loss: 93.8264 - rmse: 9.3385 - mse: 93.8264 - val_loss: 92.3560 - val_rmse: 9.5907 - val_mse: 92.3560\n",
      "Epoch 12/32\n",
      "48/48 [==============================] - 1s 13ms/step - loss: 89.5066 - rmse: 9.0294 - mse: 89.5066 - val_loss: 88.8720 - val_rmse: 9.4043 - val_mse: 88.8720\n",
      "Epoch 13/32\n",
      "48/48 [==============================] - 1s 12ms/step - loss: 91.0480 - rmse: 9.1511 - mse: 91.0480 - val_loss: 86.6791 - val_rmse: 9.2906 - val_mse: 86.6791\n",
      "Epoch 14/32\n",
      "48/48 [==============================] - 1s 12ms/step - loss: 99.7110 - rmse: 9.3605 - mse: 99.7110 - val_loss: 87.0409 - val_rmse: 9.3101 - val_mse: 87.0409\n",
      "Epoch 15/32\n",
      "48/48 [==============================] - 1s 12ms/step - loss: 84.9612 - rmse: 8.8841 - mse: 84.9612 - val_loss: 90.6090 - val_rmse: 9.5020 - val_mse: 90.6090\n",
      "Epoch 16/32\n",
      "48/48 [==============================] - 1s 13ms/step - loss: 91.8124 - rmse: 8.8829 - mse: 91.8124 - val_loss: 87.2374 - val_rmse: 9.3261 - val_mse: 87.2374\n",
      "Epoch 17/32\n",
      "48/48 [==============================] - 1s 12ms/step - loss: 81.3091 - rmse: 8.4154 - mse: 81.3091 - val_loss: 89.3346 - val_rmse: 9.4323 - val_mse: 89.3346\n",
      "Epoch 18/32\n",
      "48/48 [==============================] - 1s 16ms/step - loss: 76.1974 - rmse: 8.3929 - mse: 76.1974 - val_loss: 86.2587 - val_rmse: 9.2662 - val_mse: 86.2587\n",
      "Epoch 19/32\n",
      "48/48 [==============================] - 1s 12ms/step - loss: 103.4549 - rmse: 9.4148 - mse: 103.4549 - val_loss: 85.4775 - val_rmse: 9.2233 - val_mse: 85.4775\n",
      "Epoch 20/32\n",
      "48/48 [==============================] - 1s 12ms/step - loss: 82.6005 - rmse: 8.7061 - mse: 82.6005 - val_loss: 88.2578 - val_rmse: 9.3772 - val_mse: 88.2578\n",
      "Epoch 21/32\n",
      "48/48 [==============================] - 1s 16ms/step - loss: 98.5367 - rmse: 9.5256 - mse: 98.5367 - val_loss: 90.1734 - val_rmse: 9.4651 - val_mse: 90.1734\n",
      "Epoch 22/32\n",
      "48/48 [==============================] - 1s 16ms/step - loss: 93.1363 - rmse: 9.2063 - mse: 93.1363 - val_loss: 86.2596 - val_rmse: 9.2620 - val_mse: 86.2596\n",
      "Epoch 23/32\n",
      "48/48 [==============================] - 1s 16ms/step - loss: 87.7561 - rmse: 8.8822 - mse: 87.7561 - val_loss: 87.6164 - val_rmse: 9.3482 - val_mse: 87.6164\n",
      "Epoch 24/32\n",
      "48/48 [==============================] - 1s 16ms/step - loss: 108.7972 - rmse: 9.9022 - mse: 108.7972 - val_loss: 87.0704 - val_rmse: 9.3236 - val_mse: 87.0704\n",
      "Epoch 25/32\n",
      "48/48 [==============================] - 1s 15ms/step - loss: 95.8691 - rmse: 9.2612 - mse: 95.8691 - val_loss: 91.7881 - val_rmse: 9.5705 - val_mse: 91.7881\n",
      "Epoch 26/32\n",
      "48/48 [==============================] - 1s 13ms/step - loss: 98.3943 - rmse: 9.4624 - mse: 98.3943 - val_loss: 88.3752 - val_rmse: 9.3902 - val_mse: 88.3752\n",
      "Epoch 27/32\n",
      "48/48 [==============================] - 1s 12ms/step - loss: 125.5343 - rmse: 10.2352 - mse: 125.5343 - val_loss: 87.9517 - val_rmse: 9.3492 - val_mse: 87.9517\n",
      "Epoch 28/32\n",
      "48/48 [==============================] - 1s 12ms/step - loss: 87.8280 - rmse: 8.9476 - mse: 87.8280 - val_loss: 88.8301 - val_rmse: 9.4141 - val_mse: 88.8301\n",
      "Epoch 29/32\n",
      "48/48 [==============================] - 1s 12ms/step - loss: 89.9149 - rmse: 8.9785 - mse: 89.9149 - val_loss: 87.3316 - val_rmse: 9.3125 - val_mse: 87.3316\n",
      "Epoch 30/32\n",
      "48/48 [==============================] - 1s 13ms/step - loss: 78.7336 - rmse: 8.5160 - mse: 78.7336 - val_loss: 88.8058 - val_rmse: 9.4132 - val_mse: 88.8058\n",
      "Epoch 31/32\n",
      "48/48 [==============================] - 1s 15ms/step - loss: 85.4554 - rmse: 8.7818 - mse: 85.4554 - val_loss: 87.1420 - val_rmse: 9.3141 - val_mse: 87.1420\n",
      "Epoch 32/32\n",
      "48/48 [==============================] - 1s 15ms/step - loss: 79.6576 - rmse: 8.6072 - mse: 79.6576 - val_loss: 86.6261 - val_rmse: 9.2624 - val_mse: 86.6261\n"
     ]
    }
   ],
   "source": [
    "TRAIN_BATCH_SIZE = 32\n",
    "NUM_TRAIN_EXAMPLES = 10000 * 5 # training dataset repeats, so it will wrap around\n",
    "NUM_EVALS = 32  # how many times to evaluate\n",
    "NUM_EVAL_EXAMPLES = 10000 # enough to get a reasonable sample, but not so much that it slows down\n",
    "\n",
    "trainds = load_dataset('../data/toy_data/taxi-traffic-train*', TRAIN_BATCH_SIZE, tf.estimator.ModeKeys.TRAIN)\n",
    "evalds = load_dataset('../data/toy_data/taxi-traffic-valid*', 1000, tf.estimator.ModeKeys.EVAL).take(NUM_EVAL_EXAMPLES//1000)\n",
    "\n",
    "steps_per_epoch = NUM_TRAIN_EXAMPLES // (TRAIN_BATCH_SIZE * NUM_EVALS)\n",
    "\n",
    "# Model Fit\n",
    "history = model.fit(trainds, \n",
    "                    validation_data=evalds,\n",
    "                    epochs=NUM_EVALS, \n",
    "                    steps_per_epoch=steps_per_epoch)"
   ]
  },
  {
   "cell_type": "markdown",
   "metadata": {},
   "source": [
    "### Visualize the model loss curve\n",
    "\n",
    "Next, we will use matplotlib to draw the model's loss curves for training and validation."
   ]
  },
  {
   "cell_type": "code",
   "execution_count": 9,
   "metadata": {},
   "outputs": [
    {
     "data": {
      "image/png": "[encoded data removed]",
      "text/plain": [
       "<Figure size 1000x500 with 2 Axes>"
      ]
     },
     "metadata": {},
     "output_type": "display_data"
    }
   ],
   "source": [
    "# plot\n",
    "# Use matplotlib for visualizing the model\n",
    "import matplotlib.pyplot as plt\n",
    "nrows = 1\n",
    "ncols = 2\n",
    "# The .figure() method will create a new figure, or activate an existing figure.\n",
    "fig = plt.figure(figsize=(10, 5))\n",
    "\n",
    "for idx, key in enumerate(['loss', 'rmse']):\n",
    "    ax = fig.add_subplot(nrows, ncols, idx+1)\n",
    "# The .plot() is a versatile function, and will take an arbitrary number of arguments. For example, to plot x versus y.\n",
    "    plt.plot(history.history[key])\n",
    "    plt.plot(history.history['val_{}'.format(key)])\n",
    "# The .title() method sets a title for the axes.\n",
    "    plt.title('model {}'.format(key))\n",
    "    plt.ylabel(key)\n",
    "    plt.xlabel('epoch')\n",
    "# The .legend() method will place a legend on the axes.\n",
    "    plt.legend(['train', 'validation'], loc='upper left');"
   ]
  },
  {
   "cell_type": "markdown",
   "metadata": {},
   "source": [
    "## Lab Task 5: Predict with the model locally\n",
    "\n",
    "To predict with Keras, you simply call [model.predict()](https://keras.io/models/model/#predict) and pass in the cab ride you want to predict the fare amount for."
   ]
  },
  {
   "cell_type": "code",
   "execution_count": 10,
   "metadata": {},
   "outputs": [
    {
     "data": {
      "text/plain": [
       "array([[-0.21573804]], dtype=float32)"
      ]
     },
     "execution_count": 10,
     "metadata": {},
     "output_type": "execute_result"
    }
   ],
   "source": [
    "# TODO 5\n",
    "# Use the model to do prediction with `model.predict()`\n",
    "model.predict({\n",
    "    'pickup_longitude': tf.convert_to_tensor([-73.982683]),\n",
    "    'pickup_latitude': tf.convert_to_tensor([40.742104]),\n",
    "    'dropoff_longitude': tf.convert_to_tensor([-73.983766]),\n",
    "    'dropoff_latitude': tf.convert_to_tensor([40.755174]),\n",
    "    'passenger_count': tf.convert_to_tensor([3.0]),    \n",
    "}, steps=1)"
   ]
  },
  {
   "cell_type": "markdown",
   "metadata": {},
   "source": [
    "Of course, this is not realistic, because we can't expect client code to have a model object in memory. We'll have to export our model to a file, and expect client code to instantiate the model from that exported file."
   ]
  },
  {
   "cell_type": "markdown",
   "metadata": {},
   "source": [
    "Copyright 2021 Google Inc.\n",
    "Licensed under the Apache License, Version 2.0 (the \"License\"); you may not use this file except in compliance with the License. You may obtain a copy of the License at\n",
    "http://www.apache.org/licenses/LICENSE-2.0\n",
    "Unless required by applicable law or agreed to in writing, software distributed under the License is distributed on an \"AS IS\" BASIS, WITHOUT WARRANTIES OR CONDITIONS OF ANY KIND, either express or implied. See the License for the specific language governing permissions and limitations under the License."
   ]
  }
 ],
 "metadata": {
  "environment": {
   "kernel": "python3",
   "name": "tf2-gpu.2-6.m109",
   "type": "gcloud",
   "uri": "gcr.io/deeplearning-platform-release/tf2-gpu.2-6:m109"
  },
  "kernelspec": {
   "display_name": "Python 3",
   "language": "python",
   "name": "python3"
  },
  "language_info": {
   "codemirror_mode": {
    "name": "ipython",
    "version": 3
   },
   "file_extension": ".py",
   "mimetype": "text/x-python",
   "name": "python",
   "nbconvert_exporter": "python",
   "pygments_lexer": "ipython3",
   "version": "3.9.16"
  }
 },
 "nbformat": 4,
 "nbformat_minor": 4
}
